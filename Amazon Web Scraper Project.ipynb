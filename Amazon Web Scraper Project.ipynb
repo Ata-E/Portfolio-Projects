{
 "cells": [
  {
   "cell_type": "code",
   "execution_count": 1,
   "id": "ff4fd213",
   "metadata": {},
   "outputs": [],
   "source": [
    "import requests,bs4,smtplib,time,datetime"
   ]
  },
  {
   "cell_type": "code",
   "execution_count": 37,
   "id": "72507a2c",
   "metadata": {
    "scrolled": true
   },
   "outputs": [
    {
     "name": "stdout",
     "output_type": "stream",
     "text": [
      "\n",
      "                   Data Analyst Gift - Data Analysis Shirt - Data Scientist Present - Funny Data Science - Y'all Need Data - Unisex Tee\n",
      "                  \n",
      "\n",
      "                     $22.50\n",
      "                    \n"
     ]
    }
   ],
   "source": [
    "# Connection to website\n",
    "\n",
    "URL='https://www.amazon.com/Data-Analyst-Gift-Analysis-Scientist/dp/B093DPVL5S/ref=sr_1_1?crid=28L14NK9IZWFI&keywords=data%2Banalysis%2Bshirt&qid=1653133926&sprefix=data%2Banaylsis%2Bshi%2Caps%2C191&sr=8-1&th=1&psc=1'\n",
    "\n",
    "headers={\"User-Agent\": \"Mozilla/5.0 (Windows NT 10.0; Win64; x64) AppleWebKit/537.36 (KHTML, like Gecko) Chrome/101.0.4951.67 Safari/537.36\",\"Accept-Encoding\": \"gzip, deflate, br\", \"Accept\": \"text/html,application/xhtml+xml,application/xml;q=0.9,image/avif,image/webp,image/apng,*/*;q=0.8,application/signed-exchange;v=b3;q=0.9\", \"DNT\":\"1\",\"Connection\":\"close\",\"Upgrade-Insecure-Requests\": \"1\"}\n",
    "\n",
    "page=requests.get(URL,headers=headers)\n",
    "\n",
    "soup1=bs4.BeautifulSoup(page.content, \"html.parser\")\n",
    "\n",
    "soup2=bs4.BeautifulSoup(soup1.prettify(),'html.parser')\n",
    "\n",
    "title=soup2.find(id='productTitle').get_text()\n",
    "\n",
    "price = soup2.find('span', {'class':'a-offscreen'}).get_text()\n",
    "\n",
    "print(title)\n",
    "print(price)"
   ]
  },
  {
   "cell_type": "code",
   "execution_count": 38,
   "id": "396d3d0a",
   "metadata": {},
   "outputs": [],
   "source": [
    "price=price.strip()[1:]\n",
    "\n",
    "title=title.strip()"
   ]
  },
  {
   "cell_type": "code",
   "execution_count": 43,
   "id": "9e8ff19a",
   "metadata": {},
   "outputs": [
    {
     "name": "stdout",
     "output_type": "stream",
     "text": [
      "2022-05-21\n"
     ]
    }
   ],
   "source": [
    "import datetime\n",
    "\n",
    "today=datetime.date.today()\n",
    "\n",
    "print(today)"
   ]
  },
  {
   "cell_type": "code",
   "execution_count": 39,
   "id": "753abcaf",
   "metadata": {},
   "outputs": [],
   "source": [
    "import csv"
   ]
  },
  {
   "cell_type": "code",
   "execution_count": 44,
   "id": "4061e33a",
   "metadata": {},
   "outputs": [],
   "source": [
    "'''header=['Title','Price','Date']\n",
    "data=[title,price,today]\n",
    "\n",
    "with open('AmazonScrapedDataset.csv','w',newline='',encoding='UTF8') as f:\n",
    "    \n",
    "    writer=csv.writer(f)\n",
    "    \n",
    "    writer.writerow(header)\n",
    "    \n",
    "    writer.writerow(data)\n",
    "'''"
   ]
  },
  {
   "cell_type": "code",
   "execution_count": 50,
   "id": "9987c6b3",
   "metadata": {},
   "outputs": [
    {
     "data": {
      "text/html": [
       "<div>\n",
       "<style scoped>\n",
       "    .dataframe tbody tr th:only-of-type {\n",
       "        vertical-align: middle;\n",
       "    }\n",
       "\n",
       "    .dataframe tbody tr th {\n",
       "        vertical-align: top;\n",
       "    }\n",
       "\n",
       "    .dataframe thead th {\n",
       "        text-align: right;\n",
       "    }\n",
       "</style>\n",
       "<table border=\"1\" class=\"dataframe\">\n",
       "  <thead>\n",
       "    <tr style=\"text-align: right;\">\n",
       "      <th></th>\n",
       "      <th>Title</th>\n",
       "      <th>Price</th>\n",
       "      <th>Date</th>\n",
       "    </tr>\n",
       "  </thead>\n",
       "  <tbody>\n",
       "    <tr>\n",
       "      <th>0</th>\n",
       "      <td>Data Analyst Gift - Data Analysis Shirt - Data...</td>\n",
       "      <td>22.5</td>\n",
       "      <td>2022-05-21</td>\n",
       "    </tr>\n",
       "  </tbody>\n",
       "</table>\n",
       "</div>"
      ],
      "text/plain": [
       "                                               Title  Price        Date\n",
       "0  Data Analyst Gift - Data Analysis Shirt - Data...   22.5  2022-05-21"
      ]
     },
     "execution_count": 50,
     "metadata": {},
     "output_type": "execute_result"
    }
   ],
   "source": [
    "import pandas as pd\n",
    "\n",
    "df=pd.read_csv(r'C:\\Users\\User\\Python Fundamentals\\AmazonScrapedDataset.csv')\n",
    "\n",
    "df.head()"
   ]
  },
  {
   "cell_type": "code",
   "execution_count": 53,
   "id": "b0696139",
   "metadata": {},
   "outputs": [],
   "source": [
    "def check_price():\n",
    "    URL='https://www.amazon.com/Data-Analyst-Gift-Analysis-Scientist/dp/B093DPVL5S/ref=sr_1_1?crid=28L14NK9IZWFI&keywords=data%2Banalysis%2Bshirt&qid=1653133926&sprefix=data%2Banaylsis%2Bshi%2Caps%2C191&sr=8-1&th=1&psc=1'\n",
    "\n",
    "    headers={\"User-Agent\": \"Mozilla/5.0 (Windows NT 10.0; Win64; x64) AppleWebKit/537.36 (KHTML, like Gecko) Chrome/101.0.4951.67 Safari/537.36\",\"Accept-Encoding\": \"gzip, deflate, br\", \"Accept\": \"text/html,application/xhtml+xml,application/xml;q=0.9,image/avif,image/webp,image/apng,*/*;q=0.8,application/signed-exchange;v=b3;q=0.9\", \"DNT\":\"1\",\"Connection\":\"close\",\"Upgrade-Insecure-Requests\": \"1\"}\n",
    "\n",
    "    page=requests.get(URL,headers=headers)\n",
    "\n",
    "    soup1=bs4.BeautifulSoup(page.content, \"html.parser\")\n",
    "\n",
    "    soup2=bs4.BeautifulSoup(soup1.prettify(),'html.parser')\n",
    "\n",
    "    title=soup2.find(id='productTitle').get_text()\n",
    "\n",
    "    price = soup2.find('span', {'class':'a-offscreen'}).get_text()\n",
    "    \n",
    "    price=price.strip()[1:]\n",
    "\n",
    "    title=title.strip()\n",
    "    \n",
    "    import datetime\n",
    "\n",
    "    today=datetime.date.today()\n",
    "\n",
    "    import csv\n",
    "    \n",
    "    header=['Title','Price','Date']\n",
    "    data=[title,price,today]\n",
    "\n",
    "    with open('AmazonScrapedDataset.csv','a+',newline='',encoding='UTF8') as f:\n",
    "    \n",
    "        writer=csv.writer(f)\n",
    "\n",
    "        writer.writerow(data)"
   ]
  },
  {
   "cell_type": "code",
   "execution_count": null,
   "id": "cf05dc9b",
   "metadata": {},
   "outputs": [],
   "source": [
    "# Check the product every day for price \n",
    "\n",
    "while True:\n",
    "    check_price()\n",
    "    time.sleep(86400)"
   ]
  },
  {
   "cell_type": "code",
   "execution_count": 55,
   "id": "02d43f30",
   "metadata": {},
   "outputs": [
    {
     "data": {
      "text/html": [
       "<div>\n",
       "<style scoped>\n",
       "    .dataframe tbody tr th:only-of-type {\n",
       "        vertical-align: middle;\n",
       "    }\n",
       "\n",
       "    .dataframe tbody tr th {\n",
       "        vertical-align: top;\n",
       "    }\n",
       "\n",
       "    .dataframe thead th {\n",
       "        text-align: right;\n",
       "    }\n",
       "</style>\n",
       "<table border=\"1\" class=\"dataframe\">\n",
       "  <thead>\n",
       "    <tr style=\"text-align: right;\">\n",
       "      <th></th>\n",
       "      <th>Title</th>\n",
       "      <th>Price</th>\n",
       "      <th>Date</th>\n",
       "    </tr>\n",
       "  </thead>\n",
       "  <tbody>\n",
       "    <tr>\n",
       "      <th>0</th>\n",
       "      <td>Data Analyst Gift - Data Analysis Shirt - Data...</td>\n",
       "      <td>22.5</td>\n",
       "      <td>2022-05-21</td>\n",
       "    </tr>\n",
       "    <tr>\n",
       "      <th>1</th>\n",
       "      <td>Data Analyst Gift - Data Analysis Shirt - Data...</td>\n",
       "      <td>22.5</td>\n",
       "      <td>2022-05-21</td>\n",
       "    </tr>\n",
       "    <tr>\n",
       "      <th>2</th>\n",
       "      <td>Data Analyst Gift - Data Analysis Shirt - Data...</td>\n",
       "      <td>22.5</td>\n",
       "      <td>2022-05-21</td>\n",
       "    </tr>\n",
       "    <tr>\n",
       "      <th>3</th>\n",
       "      <td>Data Analyst Gift - Data Analysis Shirt - Data...</td>\n",
       "      <td>22.5</td>\n",
       "      <td>2022-05-21</td>\n",
       "    </tr>\n",
       "  </tbody>\n",
       "</table>\n",
       "</div>"
      ],
      "text/plain": [
       "                                               Title  Price        Date\n",
       "0  Data Analyst Gift - Data Analysis Shirt - Data...   22.5  2022-05-21\n",
       "1  Data Analyst Gift - Data Analysis Shirt - Data...   22.5  2022-05-21\n",
       "2  Data Analyst Gift - Data Analysis Shirt - Data...   22.5  2022-05-21\n",
       "3  Data Analyst Gift - Data Analysis Shirt - Data...   22.5  2022-05-21"
      ]
     },
     "execution_count": 55,
     "metadata": {},
     "output_type": "execute_result"
    }
   ],
   "source": [
    "import pandas as pd\n",
    "\n",
    "df=pd.read_csv(r'C:\\Users\\User\\Python Fundamentals\\AmazonScrapedDataset.csv')\n",
    "\n",
    "df.head()"
   ]
  },
  {
   "cell_type": "code",
   "execution_count": null,
   "id": "22c743cc",
   "metadata": {},
   "outputs": [],
   "source": []
  }
 ],
 "metadata": {
  "kernelspec": {
   "display_name": "Python 3",
   "language": "python",
   "name": "python3"
  },
  "language_info": {
   "codemirror_mode": {
    "name": "ipython",
    "version": 3
   },
   "file_extension": ".py",
   "mimetype": "text/x-python",
   "name": "python",
   "nbconvert_exporter": "python",
   "pygments_lexer": "ipython3",
   "version": "3.8.8"
  }
 },
 "nbformat": 4,
 "nbformat_minor": 5
}
